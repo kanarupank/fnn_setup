{
 "cells": [
  {
   "cell_type": "markdown",
   "metadata": {
    "id": "KqB2OIY1PpuD"
   },
   "source": [
    "### <font color=\"blue\"> import libraries"
   ]
  },
  {
   "cell_type": "code",
   "execution_count": 2,
   "metadata": {
    "colab": {
     "background_save": true
    },
    "id": "uYitGHGoPvNJ"
   },
   "outputs": [],
   "source": [
    "import pandas as pd\n",
    "import tensorflow as tf\n",
    "from sklearn.preprocessing import LabelEncoder\n",
    "from tensorflow.keras.utils import to_categorical\n",
    "import keras.backend as K\n",
    "from sklearn.model_selection import train_test_split\n",
    "from keras.models import Sequential\n",
    "from keras.layers import Dense\n",
    "from sklearn.model_selection import KFold\n",
    "import numpy as np"
   ]
  },
  {
   "cell_type": "markdown",
   "metadata": {
    "id": "xDcWsjj5P0bi"
   },
   "source": []
  },
  {
   "cell_type": "code",
   "execution_count": null,
   "metadata": {
    "colab": {
     "base_uri": "https://localhost:8080/"
    },
    "executionInfo": {
     "elapsed": 25096,
     "status": "ok",
     "timestamp": 1635010993110,
     "user": {
      "displayName": "Sanmukanathan Purusanth",
      "photoUrl": "https://lh3.googleusercontent.com/a-/AOh14GjnfxknStdSIU9qEahMdEf_tig24s6pphX6naGm0w=s64",
      "userId": "00584437573395271256"
     },
     "user_tz": -330
    },
    "id": "HUytISW9PxKr",
    "outputId": "288fd5b7-896d-47c1-fff9-2bdce7be036b"
   },
   "outputs": [],
   "source": [
    "\n"
   ]
  },
  {
   "cell_type": "code",
   "execution_count": null,
   "metadata": {
    "colab": {
     "base_uri": "https://localhost:8080/"
    },
    "executionInfo": {
     "elapsed": 5,
     "status": "ok",
     "timestamp": 1635011025371,
     "user": {
      "displayName": "Sanmukanathan Purusanth",
      "photoUrl": "https://lh3.googleusercontent.com/a-/AOh14GjnfxknStdSIU9qEahMdEf_tig24s6pphX6naGm0w=s64",
      "userId": "00584437573395271256"
     },
     "user_tz": -330
    },
    "id": "4e5Temt_P3Z6",
    "outputId": "f2c518a7-e0e6-4398-ce6c-27630ea65e51"
   },
   "outputs": [],
   "source": []
  },
  {
   "cell_type": "markdown",
   "metadata": {
    "id": "RMZpnI1mQIXp"
   },
   "source": [
    "### <font color=\"blue\"> Read the data</font>"
   ]
  },
  {
   "cell_type": "code",
   "execution_count": 3,
   "metadata": {
    "colab": {
     "base_uri": "https://localhost:8080/",
     "height": 204
    },
    "executionInfo": {
     "elapsed": 733,
     "status": "ok",
     "timestamp": 1635011048893,
     "user": {
      "displayName": "Sanmukanathan Purusanth",
      "photoUrl": "https://lh3.googleusercontent.com/a-/AOh14GjnfxknStdSIU9qEahMdEf_tig24s6pphX6naGm0w=s64",
      "userId": "00584437573395271256"
     },
     "user_tz": -330
    },
    "id": "UoHDAkx-QEsK",
    "outputId": "4e7f5f90-a104-4e5e-eb24-9ed9a2aa85c9"
   },
   "outputs": [
    {
     "data": {
      "text/html": [
       "<div>\n",
       "<style scoped>\n",
       "    .dataframe tbody tr th:only-of-type {\n",
       "        vertical-align: middle;\n",
       "    }\n",
       "\n",
       "    .dataframe tbody tr th {\n",
       "        vertical-align: top;\n",
       "    }\n",
       "\n",
       "    .dataframe thead th {\n",
       "        text-align: right;\n",
       "    }\n",
       "</style>\n",
       "<table border=\"1\" class=\"dataframe\">\n",
       "  <thead>\n",
       "    <tr style=\"text-align: right;\">\n",
       "      <th></th>\n",
       "      <th>A1</th>\n",
       "      <th>A2</th>\n",
       "      <th>A3</th>\n",
       "      <th>A4</th>\n",
       "      <th>A5</th>\n",
       "      <th>A6</th>\n",
       "      <th>A7</th>\n",
       "      <th>A8</th>\n",
       "      <th>A9</th>\n",
       "      <th>A10</th>\n",
       "      <th>A11</th>\n",
       "      <th>A12</th>\n",
       "      <th>A13</th>\n",
       "      <th>A14</th>\n",
       "      <th>A15</th>\n",
       "      <th>A16</th>\n",
       "    </tr>\n",
       "  </thead>\n",
       "  <tbody>\n",
       "    <tr>\n",
       "      <th>0</th>\n",
       "      <td>b</td>\n",
       "      <td>30.83</td>\n",
       "      <td>0.000</td>\n",
       "      <td>u</td>\n",
       "      <td>g</td>\n",
       "      <td>w</td>\n",
       "      <td>v</td>\n",
       "      <td>1.25</td>\n",
       "      <td>t</td>\n",
       "      <td>t</td>\n",
       "      <td>1</td>\n",
       "      <td>f</td>\n",
       "      <td>g</td>\n",
       "      <td>00202</td>\n",
       "      <td>0</td>\n",
       "      <td>+</td>\n",
       "    </tr>\n",
       "    <tr>\n",
       "      <th>1</th>\n",
       "      <td>a</td>\n",
       "      <td>58.67</td>\n",
       "      <td>4.460</td>\n",
       "      <td>u</td>\n",
       "      <td>g</td>\n",
       "      <td>q</td>\n",
       "      <td>h</td>\n",
       "      <td>3.04</td>\n",
       "      <td>t</td>\n",
       "      <td>t</td>\n",
       "      <td>6</td>\n",
       "      <td>f</td>\n",
       "      <td>g</td>\n",
       "      <td>00043</td>\n",
       "      <td>560</td>\n",
       "      <td>+</td>\n",
       "    </tr>\n",
       "    <tr>\n",
       "      <th>2</th>\n",
       "      <td>a</td>\n",
       "      <td>24.50</td>\n",
       "      <td>0.500</td>\n",
       "      <td>u</td>\n",
       "      <td>g</td>\n",
       "      <td>q</td>\n",
       "      <td>h</td>\n",
       "      <td>1.50</td>\n",
       "      <td>t</td>\n",
       "      <td>f</td>\n",
       "      <td>0</td>\n",
       "      <td>f</td>\n",
       "      <td>g</td>\n",
       "      <td>00280</td>\n",
       "      <td>824</td>\n",
       "      <td>+</td>\n",
       "    </tr>\n",
       "    <tr>\n",
       "      <th>3</th>\n",
       "      <td>b</td>\n",
       "      <td>27.83</td>\n",
       "      <td>1.540</td>\n",
       "      <td>u</td>\n",
       "      <td>g</td>\n",
       "      <td>w</td>\n",
       "      <td>v</td>\n",
       "      <td>3.75</td>\n",
       "      <td>t</td>\n",
       "      <td>t</td>\n",
       "      <td>5</td>\n",
       "      <td>t</td>\n",
       "      <td>g</td>\n",
       "      <td>00100</td>\n",
       "      <td>3</td>\n",
       "      <td>+</td>\n",
       "    </tr>\n",
       "    <tr>\n",
       "      <th>4</th>\n",
       "      <td>b</td>\n",
       "      <td>20.17</td>\n",
       "      <td>5.625</td>\n",
       "      <td>u</td>\n",
       "      <td>g</td>\n",
       "      <td>w</td>\n",
       "      <td>v</td>\n",
       "      <td>1.71</td>\n",
       "      <td>t</td>\n",
       "      <td>f</td>\n",
       "      <td>0</td>\n",
       "      <td>f</td>\n",
       "      <td>s</td>\n",
       "      <td>00120</td>\n",
       "      <td>0</td>\n",
       "      <td>+</td>\n",
       "    </tr>\n",
       "  </tbody>\n",
       "</table>\n",
       "</div>"
      ],
      "text/plain": [
       "  A1     A2     A3 A4 A5 A6 A7    A8 A9 A10  A11 A12 A13    A14  A15 A16\n",
       "0  b  30.83  0.000  u  g  w  v  1.25  t   t    1   f   g  00202    0   +\n",
       "1  a  58.67  4.460  u  g  q  h  3.04  t   t    6   f   g  00043  560   +\n",
       "2  a  24.50  0.500  u  g  q  h  1.50  t   f    0   f   g  00280  824   +\n",
       "3  b  27.83  1.540  u  g  w  v  3.75  t   t    5   t   g  00100    3   +\n",
       "4  b  20.17  5.625  u  g  w  v  1.71  t   f    0   f   s  00120    0   +"
      ]
     },
     "execution_count": 3,
     "metadata": {},
     "output_type": "execute_result"
    }
   ],
   "source": [
    "data=pd.read_csv('crx.data',names=[\"A1\", \"A2\", \"A3\", \"A4\", \"A5\", \"A6\", \"A7\", \"A8\", \"A9\", \"A10\", \"A11\", \"A12\", \"A13\", \"A14\", \"A15\", \"A16\"])\n",
    "data.head()"
   ]
  },
  {
   "cell_type": "code",
   "execution_count": 4,
   "metadata": {
    "colab": {
     "base_uri": "https://localhost:8080/",
     "height": 204
    },
    "executionInfo": {
     "elapsed": 622,
     "status": "ok",
     "timestamp": 1635011214465,
     "user": {
      "displayName": "Sanmukanathan Purusanth",
      "photoUrl": "https://lh3.googleusercontent.com/a-/AOh14GjnfxknStdSIU9qEahMdEf_tig24s6pphX6naGm0w=s64",
      "userId": "00584437573395271256"
     },
     "user_tz": -330
    },
    "id": "BnLzWLtvQx68",
    "outputId": "be2de74b-1a41-47ed-ab82-c766f2f854c0"
   },
   "outputs": [
    {
     "data": {
      "text/html": [
       "<div>\n",
       "<style scoped>\n",
       "    .dataframe tbody tr th:only-of-type {\n",
       "        vertical-align: middle;\n",
       "    }\n",
       "\n",
       "    .dataframe tbody tr th {\n",
       "        vertical-align: top;\n",
       "    }\n",
       "\n",
       "    .dataframe thead th {\n",
       "        text-align: right;\n",
       "    }\n",
       "</style>\n",
       "<table border=\"1\" class=\"dataframe\">\n",
       "  <thead>\n",
       "    <tr style=\"text-align: right;\">\n",
       "      <th></th>\n",
       "      <th>A1</th>\n",
       "      <th>A2</th>\n",
       "      <th>A3</th>\n",
       "      <th>A4</th>\n",
       "      <th>A5</th>\n",
       "      <th>A6</th>\n",
       "      <th>A7</th>\n",
       "      <th>A8</th>\n",
       "      <th>A9</th>\n",
       "      <th>A10</th>\n",
       "      <th>A11</th>\n",
       "      <th>A12</th>\n",
       "      <th>A13</th>\n",
       "      <th>A14</th>\n",
       "      <th>A15</th>\n",
       "      <th>A16</th>\n",
       "    </tr>\n",
       "  </thead>\n",
       "  <tbody>\n",
       "    <tr>\n",
       "      <th>685</th>\n",
       "      <td>b</td>\n",
       "      <td>21.08</td>\n",
       "      <td>10.085</td>\n",
       "      <td>y</td>\n",
       "      <td>p</td>\n",
       "      <td>e</td>\n",
       "      <td>h</td>\n",
       "      <td>1.25</td>\n",
       "      <td>f</td>\n",
       "      <td>f</td>\n",
       "      <td>0</td>\n",
       "      <td>f</td>\n",
       "      <td>g</td>\n",
       "      <td>00260</td>\n",
       "      <td>0</td>\n",
       "      <td>-</td>\n",
       "    </tr>\n",
       "    <tr>\n",
       "      <th>686</th>\n",
       "      <td>a</td>\n",
       "      <td>22.67</td>\n",
       "      <td>0.750</td>\n",
       "      <td>u</td>\n",
       "      <td>g</td>\n",
       "      <td>c</td>\n",
       "      <td>v</td>\n",
       "      <td>2.00</td>\n",
       "      <td>f</td>\n",
       "      <td>t</td>\n",
       "      <td>2</td>\n",
       "      <td>t</td>\n",
       "      <td>g</td>\n",
       "      <td>00200</td>\n",
       "      <td>394</td>\n",
       "      <td>-</td>\n",
       "    </tr>\n",
       "    <tr>\n",
       "      <th>687</th>\n",
       "      <td>a</td>\n",
       "      <td>25.25</td>\n",
       "      <td>13.500</td>\n",
       "      <td>y</td>\n",
       "      <td>p</td>\n",
       "      <td>ff</td>\n",
       "      <td>ff</td>\n",
       "      <td>2.00</td>\n",
       "      <td>f</td>\n",
       "      <td>t</td>\n",
       "      <td>1</td>\n",
       "      <td>t</td>\n",
       "      <td>g</td>\n",
       "      <td>00200</td>\n",
       "      <td>1</td>\n",
       "      <td>-</td>\n",
       "    </tr>\n",
       "    <tr>\n",
       "      <th>688</th>\n",
       "      <td>b</td>\n",
       "      <td>17.92</td>\n",
       "      <td>0.205</td>\n",
       "      <td>u</td>\n",
       "      <td>g</td>\n",
       "      <td>aa</td>\n",
       "      <td>v</td>\n",
       "      <td>0.04</td>\n",
       "      <td>f</td>\n",
       "      <td>f</td>\n",
       "      <td>0</td>\n",
       "      <td>f</td>\n",
       "      <td>g</td>\n",
       "      <td>00280</td>\n",
       "      <td>750</td>\n",
       "      <td>-</td>\n",
       "    </tr>\n",
       "    <tr>\n",
       "      <th>689</th>\n",
       "      <td>b</td>\n",
       "      <td>35.00</td>\n",
       "      <td>3.375</td>\n",
       "      <td>u</td>\n",
       "      <td>g</td>\n",
       "      <td>c</td>\n",
       "      <td>h</td>\n",
       "      <td>8.29</td>\n",
       "      <td>f</td>\n",
       "      <td>f</td>\n",
       "      <td>0</td>\n",
       "      <td>t</td>\n",
       "      <td>g</td>\n",
       "      <td>00000</td>\n",
       "      <td>0</td>\n",
       "      <td>-</td>\n",
       "    </tr>\n",
       "  </tbody>\n",
       "</table>\n",
       "</div>"
      ],
      "text/plain": [
       "    A1     A2      A3 A4 A5  A6  A7    A8 A9 A10  A11 A12 A13    A14  A15 A16\n",
       "685  b  21.08  10.085  y  p   e   h  1.25  f   f    0   f   g  00260    0   -\n",
       "686  a  22.67   0.750  u  g   c   v  2.00  f   t    2   t   g  00200  394   -\n",
       "687  a  25.25  13.500  y  p  ff  ff  2.00  f   t    1   t   g  00200    1   -\n",
       "688  b  17.92   0.205  u  g  aa   v  0.04  f   f    0   f   g  00280  750   -\n",
       "689  b  35.00   3.375  u  g   c   h  8.29  f   f    0   t   g  00000    0   -"
      ]
     },
     "execution_count": 4,
     "metadata": {},
     "output_type": "execute_result"
    }
   ],
   "source": [
    "data.tail()"
   ]
  },
  {
   "cell_type": "code",
   "execution_count": 6,
   "metadata": {
    "colab": {
     "base_uri": "https://localhost:8080/"
    },
    "executionInfo": {
     "elapsed": 824,
     "status": "ok",
     "timestamp": 1635011069976,
     "user": {
      "displayName": "Sanmukanathan Purusanth",
      "photoUrl": "https://lh3.googleusercontent.com/a-/AOh14GjnfxknStdSIU9qEahMdEf_tig24s6pphX6naGm0w=s64",
      "userId": "00584437573395271256"
     },
     "user_tz": -330
    },
    "id": "lhhajoNUQK9Y",
    "outputId": "1840e0f0-185b-4974-bfdc-a1de564ec23f"
   },
   "outputs": [
    {
     "name": "stdout",
     "output_type": "stream",
     "text": [
      "<class 'pandas.core.frame.DataFrame'>\n",
      "RangeIndex: 690 entries, 0 to 689\n",
      "Data columns (total 16 columns):\n",
      " #   Column  Non-Null Count  Dtype  \n",
      "---  ------  --------------  -----  \n",
      " 0   A1      690 non-null    object \n",
      " 1   A2      690 non-null    object \n",
      " 2   A3      690 non-null    float64\n",
      " 3   A4      690 non-null    object \n",
      " 4   A5      690 non-null    object \n",
      " 5   A6      690 non-null    object \n",
      " 6   A7      690 non-null    object \n",
      " 7   A8      690 non-null    float64\n",
      " 8   A9      690 non-null    object \n",
      " 9   A10     690 non-null    object \n",
      " 10  A11     690 non-null    int64  \n",
      " 11  A12     690 non-null    object \n",
      " 12  A13     690 non-null    object \n",
      " 13  A14     690 non-null    object \n",
      " 14  A15     690 non-null    int64  \n",
      " 15  A16     690 non-null    object \n",
      "dtypes: float64(2), int64(2), object(12)\n",
      "memory usage: 86.4+ KB\n"
     ]
    }
   ],
   "source": [
    "data.info()"
   ]
  },
  {
   "cell_type": "markdown",
   "metadata": {
    "id": "H73URPjWRfw6"
   },
   "source": [
    "### <font color=\"blue\"> missing values </font>"
   ]
  },
  {
   "cell_type": "code",
   "execution_count": 5,
   "metadata": {
    "colab": {
     "base_uri": "https://localhost:8080/"
    },
    "executionInfo": {
     "elapsed": 4,
     "status": "ok",
     "timestamp": 1635011180609,
     "user": {
      "displayName": "Sanmukanathan Purusanth",
      "photoUrl": "https://lh3.googleusercontent.com/a-/AOh14GjnfxknStdSIU9qEahMdEf_tig24s6pphX6naGm0w=s64",
      "userId": "00584437573395271256"
     },
     "user_tz": -330
    },
    "id": "RX85aX_vQP4J",
    "outputId": "6d538f36-8079-46f6-fc52-69a0062e30b0"
   },
   "outputs": [
    {
     "data": {
      "text/plain": [
       "False"
      ]
     },
     "execution_count": 5,
     "metadata": {},
     "output_type": "execute_result"
    }
   ],
   "source": [
    "data.isnull().values.any()"
   ]
  },
  {
   "cell_type": "code",
   "execution_count": 6,
   "metadata": {
    "colab": {
     "base_uri": "https://localhost:8080/"
    },
    "executionInfo": {
     "elapsed": 722,
     "status": "ok",
     "timestamp": 1635011387314,
     "user": {
      "displayName": "Sanmukanathan Purusanth",
      "photoUrl": "https://lh3.googleusercontent.com/a-/AOh14GjnfxknStdSIU9qEahMdEf_tig24s6pphX6naGm0w=s64",
      "userId": "00584437573395271256"
     },
     "user_tz": -330
    },
    "id": "eMPiGgVJRdKF",
    "outputId": "f82954d9-95bf-4756-9e13-29698fa9dec2"
   },
   "outputs": [
    {
     "data": {
      "text/plain": [
       "Index(['A1', 'A2', 'A4', 'A5', 'A6', 'A7', 'A14'], dtype='object')"
      ]
     },
     "execution_count": 6,
     "metadata": {},
     "output_type": "execute_result"
    }
   ],
   "source": [
    "data.columns[data.isin(['?']).any()]"
   ]
  },
  {
   "cell_type": "code",
   "execution_count": 7,
   "metadata": {
    "id": "SyV2hPAdQrQh"
   },
   "outputs": [],
   "source": [
    "data[['A2', 'A14']] = data[['A2', 'A14']].replace(['?'], None)\n",
    "data[['A2', 'A14']] = data[['A2', 'A14']].apply(lambda col: col.replace('None', col.astype(float).mean()))"
   ]
  },
  {
   "cell_type": "markdown",
   "metadata": {
    "id": "URwdKxIASD5w"
   },
   "source": [
    "### <font color=\"blue\"> data casting </font>"
   ]
  },
  {
   "cell_type": "code",
   "execution_count": 8,
   "metadata": {
    "id": "EcW8_L7xSDDZ"
   },
   "outputs": [],
   "source": [
    "data[['A2', 'A3', 'A8', 'A11', 'A14', 'A15']] = data[['A2', 'A3', 'A8', 'A11', 'A14', 'A15']].astype(float)\n",
    "data[['A1', 'A4', 'A5', 'A6', 'A7', 'A9', 'A10', 'A12', 'A13', 'A16']] = data[['A1', 'A4', 'A5', 'A6', 'A7', 'A9', 'A10', 'A12', 'A13', 'A16']].astype('category')"
   ]
  },
  {
   "cell_type": "code",
   "execution_count": 14,
   "metadata": {
    "colab": {
     "base_uri": "https://localhost:8080/"
    },
    "executionInfo": {
     "elapsed": 6,
     "status": "ok",
     "timestamp": 1635011596825,
     "user": {
      "displayName": "Sanmukanathan Purusanth",
      "photoUrl": "https://lh3.googleusercontent.com/a-/AOh14GjnfxknStdSIU9qEahMdEf_tig24s6pphX6naGm0w=s64",
      "userId": "00584437573395271256"
     },
     "user_tz": -330
    },
    "id": "MrRJpsW2Rsus",
    "outputId": "f8f07500-63df-4476-f0cd-af3e7912cc05"
   },
   "outputs": [
    {
     "name": "stdout",
     "output_type": "stream",
     "text": [
      "<class 'pandas.core.frame.DataFrame'>\n",
      "RangeIndex: 690 entries, 0 to 689\n",
      "Data columns (total 16 columns):\n",
      " #   Column  Non-Null Count  Dtype   \n",
      "---  ------  --------------  -----   \n",
      " 0   A1      690 non-null    category\n",
      " 1   A2      678 non-null    float64 \n",
      " 2   A3      690 non-null    float64 \n",
      " 3   A4      690 non-null    category\n",
      " 4   A5      690 non-null    category\n",
      " 5   A6      690 non-null    category\n",
      " 6   A7      690 non-null    category\n",
      " 7   A8      690 non-null    float64 \n",
      " 8   A9      690 non-null    category\n",
      " 9   A10     690 non-null    category\n",
      " 10  A11     690 non-null    float64 \n",
      " 11  A12     690 non-null    category\n",
      " 12  A13     690 non-null    category\n",
      " 13  A14     677 non-null    float64 \n",
      " 14  A15     690 non-null    float64 \n",
      " 15  A16     690 non-null    category\n",
      "dtypes: category(10), float64(6)\n",
      "memory usage: 41.4 KB\n"
     ]
    }
   ],
   "source": [
    "data.info()"
   ]
  },
  {
   "cell_type": "markdown",
   "metadata": {
    "id": "YH_xCZTDSdkF"
   },
   "source": [
    "### <font color=\"blue\"> label encoding </font>"
   ]
  },
  {
   "cell_type": "code",
   "execution_count": 9,
   "metadata": {
    "id": "ErJbW4P2SQrc"
   },
   "outputs": [],
   "source": [
    "categorical=['A1', 'A4', 'A5', 'A6', 'A7', 'A9', 'A10', 'A12', 'A13', 'A16']"
   ]
  },
  {
   "cell_type": "code",
   "execution_count": 98,
   "metadata": {
    "colab": {
     "base_uri": "https://localhost:8080/"
    },
    "executionInfo": {
     "elapsed": 584,
     "status": "ok",
     "timestamp": 1635011797391,
     "user": {
      "displayName": "Sanmukanathan Purusanth",
      "photoUrl": "https://lh3.googleusercontent.com/a-/AOh14GjnfxknStdSIU9qEahMdEf_tig24s6pphX6naGm0w=s64",
      "userId": "00584437573395271256"
     },
     "user_tz": -330
    },
    "id": "nOGjWl0YSay8",
    "outputId": "0a4143d0-cb1e-451e-bd5c-e95b5bcd53b3"
   },
   "outputs": [],
   "source": [
    "for cat in categorical:\n",
    "  le = LabelEncoder()\n",
    "  #print(data[[cat]])\n",
    " #print(le.fit_transform(data[cat]))\n",
    "  data[cat]=le.fit_transform(data[cat])\n",
    "  \n",
    "data = data.fillna(0)"
   ]
  },
  {
   "cell_type": "code",
   "execution_count": 11,
   "metadata": {
    "colab": {
     "base_uri": "https://localhost:8080/",
     "height": 204
    },
    "executionInfo": {
     "elapsed": 718,
     "status": "ok",
     "timestamp": 1635011808180,
     "user": {
      "displayName": "Sanmukanathan Purusanth",
      "photoUrl": "https://lh3.googleusercontent.com/a-/AOh14GjnfxknStdSIU9qEahMdEf_tig24s6pphX6naGm0w=s64",
      "userId": "00584437573395271256"
     },
     "user_tz": -330
    },
    "id": "jESotCEbS45R",
    "outputId": "986472e9-37b2-4125-8d8a-df4732cd7e26"
   },
   "outputs": [
    {
     "data": {
      "text/html": [
       "<div>\n",
       "<style scoped>\n",
       "    .dataframe tbody tr th:only-of-type {\n",
       "        vertical-align: middle;\n",
       "    }\n",
       "\n",
       "    .dataframe tbody tr th {\n",
       "        vertical-align: top;\n",
       "    }\n",
       "\n",
       "    .dataframe thead th {\n",
       "        text-align: right;\n",
       "    }\n",
       "</style>\n",
       "<table border=\"1\" class=\"dataframe\">\n",
       "  <thead>\n",
       "    <tr style=\"text-align: right;\">\n",
       "      <th></th>\n",
       "      <th>A1</th>\n",
       "      <th>A2</th>\n",
       "      <th>A3</th>\n",
       "      <th>A4</th>\n",
       "      <th>A5</th>\n",
       "      <th>A6</th>\n",
       "      <th>A7</th>\n",
       "      <th>A8</th>\n",
       "      <th>A9</th>\n",
       "      <th>A10</th>\n",
       "      <th>A11</th>\n",
       "      <th>A12</th>\n",
       "      <th>A13</th>\n",
       "      <th>A14</th>\n",
       "      <th>A15</th>\n",
       "      <th>A16</th>\n",
       "    </tr>\n",
       "  </thead>\n",
       "  <tbody>\n",
       "    <tr>\n",
       "      <th>0</th>\n",
       "      <td>2</td>\n",
       "      <td>30.83</td>\n",
       "      <td>0.000</td>\n",
       "      <td>2</td>\n",
       "      <td>1</td>\n",
       "      <td>13</td>\n",
       "      <td>8</td>\n",
       "      <td>1.25</td>\n",
       "      <td>1</td>\n",
       "      <td>1</td>\n",
       "      <td>1.0</td>\n",
       "      <td>0</td>\n",
       "      <td>0</td>\n",
       "      <td>202.0</td>\n",
       "      <td>0.0</td>\n",
       "      <td>0</td>\n",
       "    </tr>\n",
       "    <tr>\n",
       "      <th>1</th>\n",
       "      <td>1</td>\n",
       "      <td>58.67</td>\n",
       "      <td>4.460</td>\n",
       "      <td>2</td>\n",
       "      <td>1</td>\n",
       "      <td>11</td>\n",
       "      <td>4</td>\n",
       "      <td>3.04</td>\n",
       "      <td>1</td>\n",
       "      <td>1</td>\n",
       "      <td>6.0</td>\n",
       "      <td>0</td>\n",
       "      <td>0</td>\n",
       "      <td>43.0</td>\n",
       "      <td>560.0</td>\n",
       "      <td>0</td>\n",
       "    </tr>\n",
       "    <tr>\n",
       "      <th>2</th>\n",
       "      <td>1</td>\n",
       "      <td>24.50</td>\n",
       "      <td>0.500</td>\n",
       "      <td>2</td>\n",
       "      <td>1</td>\n",
       "      <td>11</td>\n",
       "      <td>4</td>\n",
       "      <td>1.50</td>\n",
       "      <td>1</td>\n",
       "      <td>0</td>\n",
       "      <td>0.0</td>\n",
       "      <td>0</td>\n",
       "      <td>0</td>\n",
       "      <td>280.0</td>\n",
       "      <td>824.0</td>\n",
       "      <td>0</td>\n",
       "    </tr>\n",
       "    <tr>\n",
       "      <th>3</th>\n",
       "      <td>2</td>\n",
       "      <td>27.83</td>\n",
       "      <td>1.540</td>\n",
       "      <td>2</td>\n",
       "      <td>1</td>\n",
       "      <td>13</td>\n",
       "      <td>8</td>\n",
       "      <td>3.75</td>\n",
       "      <td>1</td>\n",
       "      <td>1</td>\n",
       "      <td>5.0</td>\n",
       "      <td>1</td>\n",
       "      <td>0</td>\n",
       "      <td>100.0</td>\n",
       "      <td>3.0</td>\n",
       "      <td>0</td>\n",
       "    </tr>\n",
       "    <tr>\n",
       "      <th>4</th>\n",
       "      <td>2</td>\n",
       "      <td>20.17</td>\n",
       "      <td>5.625</td>\n",
       "      <td>2</td>\n",
       "      <td>1</td>\n",
       "      <td>13</td>\n",
       "      <td>8</td>\n",
       "      <td>1.71</td>\n",
       "      <td>1</td>\n",
       "      <td>0</td>\n",
       "      <td>0.0</td>\n",
       "      <td>0</td>\n",
       "      <td>2</td>\n",
       "      <td>120.0</td>\n",
       "      <td>0.0</td>\n",
       "      <td>0</td>\n",
       "    </tr>\n",
       "  </tbody>\n",
       "</table>\n",
       "</div>"
      ],
      "text/plain": [
       "   A1     A2     A3  A4  A5  A6  A7    A8  A9  A10  A11  A12  A13    A14  \\\n",
       "0   2  30.83  0.000   2   1  13   8  1.25   1    1  1.0    0    0  202.0   \n",
       "1   1  58.67  4.460   2   1  11   4  3.04   1    1  6.0    0    0   43.0   \n",
       "2   1  24.50  0.500   2   1  11   4  1.50   1    0  0.0    0    0  280.0   \n",
       "3   2  27.83  1.540   2   1  13   8  3.75   1    1  5.0    1    0  100.0   \n",
       "4   2  20.17  5.625   2   1  13   8  1.71   1    0  0.0    0    2  120.0   \n",
       "\n",
       "     A15  A16  \n",
       "0    0.0    0  \n",
       "1  560.0    0  \n",
       "2  824.0    0  \n",
       "3    3.0    0  \n",
       "4    0.0    0  "
      ]
     },
     "execution_count": 11,
     "metadata": {},
     "output_type": "execute_result"
    }
   ],
   "source": [
    "data.head()"
   ]
  },
  {
   "cell_type": "code",
   "execution_count": 12,
   "metadata": {
    "colab": {
     "base_uri": "https://localhost:8080/"
    },
    "executionInfo": {
     "elapsed": 6,
     "status": "ok",
     "timestamp": 1635011847166,
     "user": {
      "displayName": "Sanmukanathan Purusanth",
      "photoUrl": "https://lh3.googleusercontent.com/a-/AOh14GjnfxknStdSIU9qEahMdEf_tig24s6pphX6naGm0w=s64",
      "userId": "00584437573395271256"
     },
     "user_tz": -330
    },
    "id": "BgcL73nBTEBd",
    "outputId": "d57e86c7-698f-48be-d263-782636c26bdc"
   },
   "outputs": [
    {
     "name": "stdout",
     "output_type": "stream",
     "text": [
      "<class 'pandas.core.frame.DataFrame'>\n",
      "RangeIndex: 690 entries, 0 to 689\n",
      "Data columns (total 16 columns):\n",
      " #   Column  Non-Null Count  Dtype  \n",
      "---  ------  --------------  -----  \n",
      " 0   A1      690 non-null    int64  \n",
      " 1   A2      690 non-null    float64\n",
      " 2   A3      690 non-null    float64\n",
      " 3   A4      690 non-null    int64  \n",
      " 4   A5      690 non-null    int64  \n",
      " 5   A6      690 non-null    int64  \n",
      " 6   A7      690 non-null    int64  \n",
      " 7   A8      690 non-null    float64\n",
      " 8   A9      690 non-null    int64  \n",
      " 9   A10     690 non-null    int64  \n",
      " 10  A11     690 non-null    float64\n",
      " 11  A12     690 non-null    int64  \n",
      " 12  A13     690 non-null    int64  \n",
      " 13  A14     690 non-null    float64\n",
      " 14  A15     690 non-null    float64\n",
      " 15  A16     690 non-null    int64  \n",
      "dtypes: float64(6), int64(10)\n",
      "memory usage: 86.4 KB\n"
     ]
    }
   ],
   "source": [
    "data.info()"
   ]
  },
  {
   "cell_type": "markdown",
   "metadata": {
    "id": "dQ8AjtrYTigR"
   },
   "source": [
    "### <font color=\"blue\"> train test split"
   ]
  },
  {
   "cell_type": "code",
   "execution_count": 97,
   "metadata": {
    "colab": {
     "base_uri": "https://localhost:8080/"
    },
    "executionInfo": {
     "elapsed": 732,
     "status": "ok",
     "timestamp": 1635013091454,
     "user": {
      "displayName": "Sanmukanathan Purusanth",
      "photoUrl": "https://lh3.googleusercontent.com/a-/AOh14GjnfxknStdSIU9qEahMdEf_tig24s6pphX6naGm0w=s64",
      "userId": "00584437573395271256"
     },
     "user_tz": -330
    },
    "id": "foFEJriLTNvv",
    "outputId": "cd7ea790-1cb7-4d97-d628-87b42ebd0c4b"
   },
   "outputs": [
    {
     "name": "stdout",
     "output_type": "stream",
     "text": [
      "(483, 15) (207, 15) (483,) (207,)\n"
     ]
    }
   ],
   "source": [
    "X = data.iloc[:, :-1]\n",
    "y = data.iloc[:,-1]\n",
    "cat_y = to_categorical(y)\n",
    "X_train, X_test, y_train, y_test = train_test_split(X, y, test_size=0.30)\n",
    "print(X_train.shape, X_test.shape, y_train.shape, y_test.shape)"
   ]
  },
  {
   "cell_type": "markdown",
   "metadata": {
    "id": "RHWXK2ySUfTP"
   },
   "source": [
    "### <font color=\"blue\"> Evaluation metrics"
   ]
  },
  {
   "cell_type": "code",
   "execution_count": 59,
   "metadata": {
    "id": "KlOs3OCnUjUG"
   },
   "outputs": [],
   "source": [
    "def f1_metric(y_true, y_pred):\n",
    "    true_positives = K.sum(K.round(K.clip(y_true * y_pred, 0, 1)))\n",
    "    possible_positives = K.sum(K.round(K.clip(y_true, 0, 1)))\n",
    "    predicted_positives = K.sum(K.round(K.clip(y_pred, 0, 1)))\n",
    "\n",
    "    precision = true_positives / (predicted_positives + K.epsilon())\n",
    "    recall = true_positives / (possible_positives + K.epsilon())\n",
    "\n",
    "    f1_val = 2*(precision*recall)/(precision+recall+K.epsilon())\n",
    "    return f1_val\n",
    "    \n",
    "def recall_m(y_true, y_pred):\n",
    "    true_positives = K.sum(K.round(K.clip(y_true * y_pred, 0, 1)))\n",
    "    possible_positives = K.sum(K.round(K.clip(y_true, 0, 1)))\n",
    "    recall = true_positives / (possible_positives + K.epsilon())\n",
    "    return recall\n",
    "\n",
    "def precision_m(y_true, y_pred):\n",
    "    true_positives = K.sum(K.round(K.clip(y_true * y_pred, 0, 1)))\n",
    "    predicted_positives = K.sum(K.round(K.clip(y_pred, 0, 1)))\n",
    "    precision = true_positives / (predicted_positives + K.epsilon())\n",
    "    return precision"
   ]
  },
  {
   "cell_type": "markdown",
   "metadata": {
    "id": "J-hQ5nslUuiS"
   },
   "source": [
    "[reference](https://datascience.stackexchange.com/questions/48246/how-to-compute-f1-in-tensorflow)"
   ]
  },
  {
   "cell_type": "markdown",
   "metadata": {
    "id": "tqQ9BwZRU-hP"
   },
   "source": [
    "### <font color=\"blue\"> define the model architecture"
   ]
  },
  {
   "cell_type": "code",
   "execution_count": 99,
   "metadata": {
    "id": "dKMFZbKMU0Zd"
   },
   "outputs": [],
   "source": [
    "def FFN(X_train, y_train):\n",
    "  l = 0.01\n",
    "  model = Sequential()\n",
    "  model.add(Dense(15, activation='relu', input_shape=(X_train.shape[1],)))\n",
    "  model.add(Dense(4, activation='relu')) #relu, sigmoid, softmax ; 3, 10, 4\n",
    "  model.add(Dense(4, activation='relu'))\n",
    "  model.add(Dense(4, activation='relu'))\n",
    "  model.add(Dense(1, activation='softmax'))#softmax, sigmoid, softmax\n",
    "\n",
    "  # Add regularization after defining the layers\n",
    "  regularizer = tf.keras.regularizers.L1(l)\n",
    "  for layer in model.layers:\n",
    "    if isinstance(layer, Dense):\n",
    "       layer.kernel_regularizer = regularizer\n",
    "\n",
    "\n",
    "    #binary_crossentropy, mean_squared_error\n",
    "  model.compile(optimizer='adam', loss='binary_crossentropy', metrics=['accuracy', f1_metric, precision_m, recall_m]) # mean_squared_error #binary_crossentropy\n",
    "  model.fit(X_train, y_train, epochs=25, batch_size=20, verbose=0)\n",
    "  return model"
   ]
  },
  {
   "cell_type": "code",
   "execution_count": 100,
   "metadata": {
    "id": "Oa2fq-rpWGzM"
   },
   "outputs": [],
   "source": [
    "def evaluate_FFN(model,X_test, y_test):\n",
    "  score = model.evaluate(X_test, y_test, verbose=0)\n",
    "  print(\"%s: %.2f%%\" % (model.metrics_names[1], score[1]*100))\n",
    "  print(\"%s: %.2f%%\" % (model.metrics_names[2], score[2]*100))\n",
    "  print(\"%s: %.2f%%\" % (model.metrics_names[3], score[3]*100))\n",
    "  print(\"%s: %.2f%%\" % (model.metrics_names[4], score[4]*100))"
   ]
  },
  {
   "cell_type": "markdown",
   "metadata": {
    "id": "vYwYxj2tWjRO"
   },
   "source": [
    "### <font color=\"blue\"> train and evaluate FFN"
   ]
  },
  {
   "cell_type": "code",
   "execution_count": 104,
   "metadata": {
    "colab": {
     "base_uri": "https://localhost:8080/"
    },
    "executionInfo": {
     "elapsed": 2520,
     "status": "ok",
     "timestamp": 1635017203754,
     "user": {
      "displayName": "Sanmukanathan Purusanth",
      "photoUrl": "https://lh3.googleusercontent.com/a-/AOh14GjnfxknStdSIU9qEahMdEf_tig24s6pphX6naGm0w=s64",
      "userId": "00584437573395271256"
     },
     "user_tz": -330
    },
    "id": "EjkFOoFGWVx6",
    "outputId": "21c2348f-1c41-4b34-bbcd-738385dc3e35"
   },
   "outputs": [
    {
     "name": "stdout",
     "output_type": "stream",
     "text": [
      "accuracy: 57.49%\n",
      "f1_metric: 73.19%\n",
      "precision_m: 58.18%\n",
      "recall_m: 100.00%\n"
     ]
    }
   ],
   "source": [
    "model=FFN(X_train, y_train)\n",
    "evaluate_FFN(model,X_test, y_test)"
   ]
  },
  {
   "cell_type": "markdown",
   "metadata": {
    "id": "uM4QXtItYwD9"
   },
   "source": [
    "### <font color=\"blue\"> K-fold cross validation"
   ]
  },
  {
   "cell_type": "code",
   "execution_count": 26,
   "metadata": {
    "colab": {
     "base_uri": "https://localhost:8080/"
    },
    "executionInfo": {
     "elapsed": 11763,
     "status": "ok",
     "timestamp": 1635017219005,
     "user": {
      "displayName": "Sanmukanathan Purusanth",
      "photoUrl": "https://lh3.googleusercontent.com/a-/AOh14GjnfxknStdSIU9qEahMdEf_tig24s6pphX6naGm0w=s64",
      "userId": "00584437573395271256"
     },
     "user_tz": -330
    },
    "id": "0AHsGD-4W7hH",
    "outputId": "a626e62c-4b2e-4556-a175-84aed82a7190",
    "scrolled": true
   },
   "outputs": [
    {
     "name": "stdout",
     "output_type": "stream",
     "text": [
      "5/5 [==============================] - 0s 3ms/step - loss: 0.6849 - accuracy: 0.5725 - f1_metric: 0.7465 - precision_m: 0.6313 - recall_m: 1.0000\n",
      "5/5 [==============================] - 0s 3ms/step - loss: 0.6762 - accuracy: 0.5580 - f1_metric: 0.7095 - precision_m: 0.6187 - recall_m: 1.0000\n",
      "5/5 [==============================] - 0s 3ms/step - loss: 0.6997 - accuracy: 0.4928 - f1_metric: 0.6663 - precision_m: 0.5625 - recall_m: 1.0000\n",
      "5/5 [==============================] - 0s 4ms/step - loss: 0.6953 - accuracy: 0.5217 - f1_metric: 0.7011 - precision_m: 0.5875 - recall_m: 1.0000\n",
      "5/5 [==============================] - 0s 4ms/step - loss: 0.6913 - accuracy: 0.6304 - f1_metric: 0.7826 - precision_m: 0.6812 - recall_m: 1.0000\n",
      "\n",
      "\n",
      "5 fold cross validation scores\n",
      "Accuracy 55.51% \n",
      "F1 score 72.12% \n",
      "precision 61.62% \n",
      "recall 100.00% )\n"
     ]
    }
   ],
   "source": [
    "accuracy_scores = []\n",
    "f1_scores = []\n",
    "precisions = []\n",
    "recalls = []\n",
    "fold = 2\n",
    "kf = KFold(n_splits = 5, shuffle = True, random_state = 101)\n",
    "\n",
    "for train_index, test_index in kf.split(X):\n",
    "  X_train, X_test = X.iloc[train_index], X.iloc[test_index]\n",
    "  y_train, y_test = y[train_index], y[test_index]\n",
    "\n",
    "  model = FFN(X_train, y_train)\n",
    "  evaluations = model.evaluate(X_test, y_test)\n",
    "\n",
    "  accuracy_scores.append(evaluations[1] * 100)\n",
    "  f1_scores.append(evaluations[2] * 100)\n",
    "  precisions.append(evaluations[3] * 100)\n",
    "  recalls.append(evaluations[4] * 100)\n",
    "\n",
    "  fold += 1\n",
    "\n",
    "print(\"\\n\\n5 fold cross validation scores\")\n",
    "print(\"Accuracy %.2f%% \" % (np.mean(accuracy_scores)))\n",
    "print(\"F1 score %.2f%% \" % (np.mean(f1_scores)))\n",
    "print(\"precision %.2f%% \" % (np.mean(precisions)))\n",
    "print(\"recall %.2f%% )\" % (np.mean(recalls)))"
   ]
  },
  {
   "cell_type": "markdown",
   "metadata": {
    "id": "bC1dztLCkY1s"
   },
   "source": [
    "### <font color=\"blue\"> Number of hidden neurons"
   ]
  },
  {
   "cell_type": "code",
   "execution_count": 108,
   "metadata": {
    "colab": {
     "base_uri": "https://localhost:8080/"
    },
    "executionInfo": {
     "elapsed": 585,
     "status": "ok",
     "timestamp": 1635016033419,
     "user": {
      "displayName": "Sanmukanathan Purusanth",
      "photoUrl": "https://lh3.googleusercontent.com/a-/AOh14GjnfxknStdSIU9qEahMdEf_tig24s6pphX6naGm0w=s64",
      "userId": "00584437573395271256"
     },
     "user_tz": -330
    },
    "id": "oYobYxMtaXdh",
    "outputId": "1872523f-5f42-4782-e696-e7b55cdc82fb"
   },
   "outputs": [
    {
     "data": {
      "text/plain": [
       "2.137132935477019"
      ]
     },
     "execution_count": 108,
     "metadata": {},
     "output_type": "execute_result"
    }
   ],
   "source": [
    "np.sqrt((689/(16*np.log2(689))))"
   ]
  },
  {
   "cell_type": "code",
   "execution_count": 109,
   "metadata": {
    "colab": {
     "base_uri": "https://localhost:8080/"
    },
    "executionInfo": {
     "elapsed": 722,
     "status": "ok",
     "timestamp": 1635016384367,
     "user": {
      "displayName": "Sanmukanathan Purusanth",
      "photoUrl": "https://lh3.googleusercontent.com/a-/AOh14GjnfxknStdSIU9qEahMdEf_tig24s6pphX6naGm0w=s64",
      "userId": "00584437573395271256"
     },
     "user_tz": -330
    },
    "id": "aKD8b8xfjLnq",
    "outputId": "583df56e-194e-46d5-b88c-b6af0d018152"
   },
   "outputs": [
    {
     "data": {
      "text/plain": [
       "4.000084261437964"
      ]
     },
     "execution_count": 109,
     "metadata": {},
     "output_type": "execute_result"
    }
   ],
   "source": [
    "(4*np.square(689)+8)/(np.square(689)-8)"
   ]
  },
  {
   "cell_type": "code",
   "execution_count": null,
   "metadata": {
    "id": "HoY9lk1EkL4e"
   },
   "outputs": [],
   "source": []
  }
 ],
 "metadata": {
  "colab": {
   "authorship_tag": "ABX9TyO1k6cJf4kTNImU78gcb8GD",
   "collapsed_sections": [],
   "name": "ann_asigment.ipynb",
   "version": ""
  },
  "kernelspec": {
   "display_name": "Python 3 (ipykernel)",
   "language": "python",
   "name": "python3"
  },
  "language_info": {
   "codemirror_mode": {
    "name": "ipython",
    "version": 3
   },
   "file_extension": ".py",
   "mimetype": "text/x-python",
   "name": "python",
   "nbconvert_exporter": "python",
   "pygments_lexer": "ipython3",
   "version": "3.10.11"
  }
 },
 "nbformat": 4,
 "nbformat_minor": 1
}
